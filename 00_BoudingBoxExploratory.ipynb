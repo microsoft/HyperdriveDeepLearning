{
 "cells": [
  {
   "cell_type": "markdown",
   "metadata": {},
   "source": [
    "Copyright (C) Microsoft Corporation."
   ]
  },
  {
   "cell_type": "markdown",
   "metadata": {},
   "source": [
    "# Download Data "
   ]
  },
  {
   "cell_type": "markdown",
   "metadata": {},
   "source": [
    "In this notebook, we download the data and provide some insights on the bounding boxes. "
   ]
  },
  {
   "cell_type": "code",
   "execution_count": 1,
   "metadata": {},
   "outputs": [],
   "source": [
    "%matplotlib inline\n",
    "\n",
    "import sys\n",
    "import os\n",
    "import glob\n",
    "from lxml import etree\n",
    "import matplotlib.pyplot as plt\n",
    "from utilities import create_dir\n",
    "\n",
    "sys.path.append(\"../models/research/\") # Modify to point to your tensorflow models directory\n",
    "from object_detection.utils import dataset_util\n",
    "from object_detection.utils import label_map_util\n",
    "from object_detection.dataset_tools import tf_record_creation_util\n",
    "\n",
    "import tensorflow as tf\n",
    "import warnings\n",
    "warnings.filterwarnings(action='ignore', category=FutureWarning)"
   ]
  },
  {
   "cell_type": "code",
   "execution_count": 2,
   "metadata": {},
   "outputs": [
    {
     "name": "stdout",
     "output_type": "stream",
     "text": [
      "exists\n"
     ]
    }
   ],
   "source": [
    "create_dir('annotated')"
   ]
  },
  {
   "cell_type": "markdown",
   "metadata": {},
   "source": [
    "The below step requires that yo have [AzCopy](https://docs.microsoft.com/en-us/azure/storage/common/storage-use-azcopy-linux?toc=%2fazure%2fstorage%2fblobs%2ftoc.json#download-and-install-azcopy) installed. "
   ]
  },
  {
   "cell_type": "code",
   "execution_count": null,
   "metadata": {},
   "outputs": [],
   "source": [
    "azcopy --source /datadrive/OutOfStockDemo/annotated_val/ --destination https://hyperdrivedlhappypath.blob.core.windows.net/annotatedval --dest-key 4cUirlDxcaqOSOGQdjA3jfce5seskHDC61xvYGO1bOTO6upsPYpleX5kbmDnoXJNZm+pBkkyzv4Ar/Nw4e+XXQ== --recursive"
   ]
  },
  {
   "cell_type": "code",
   "execution_count": 3,
   "metadata": {},
   "outputs": [
    {
     "name": "stdout",
     "output_type": "stream",
     "text": [
      "\u001b[?1h\u001b=\u001b[6nFinished: 0 file(s), 0 B; Average Speed:0 B/s.                                 \u001b[6n\u001b[1;1H\u001b[6nFinished: 0 file(s), 0 B; Average Speed:0 B/s.                                 \u001b[6n\u001b[1;1H\u001b[6nFinished: 0 file(s), 0 B; Average Speed:0 B/s.                                 \u001b[6n\u001b[1;1H\u001b[6nFinished: 0 file(s), 0 B; Average Speed:0 B/s.                                 \u001b[6n\u001b[1;1H\u001b[6nFinished: 0 file(s), 591 B; Average Speed:60.92 B/s.                           \u001b[6n\u001b[1;1H\u001b[6nFinished: 1558 file(s), 46.306 MB; Average Speed:3.95 MB/s.                    \u001b[6n\u001b[1;1H\u001b[6nFinished: 1559 file(s), 46.306 MB; Average Speed:3.36 MB/s.                    \u001b[6n\u001b[1;1H\u001b[6nFinished: 1560 file(s), 46.306 MB; Average Speed:2.93 MB/s.                    \u001b[6n\u001b[1;1H\u001b[6n                                                                               \u001b[6n\u001b[1;1HFinished 1560 of total 1560 file(s).\n",
      "\u001b[6n                                                                               \u001b[6n\u001b[1;1H[2019/04/30 13:10:52] Transfer summary:\n",
      "-----------------\n",
      "Total files transferred: 1560\n",
      "Transfer successfully:   1560\n",
      "Transfer skipped:        0\n",
      "Transfer failed:         0\n",
      "Elapsed time:            00.00:00:19\n"
     ]
    }
   ],
   "source": [
    "!azcopy --source https://olympusvideoblob.blob.core.windows.net/grocerydemolabeled/Converted\\ \\ Jpg\\ with\\ xml/ --destination ./annotated --source-key rn0do+y1iUoMuAx1l7EYTZDxktgV961RHKaSz34uOIom8fUEQMXM0kDEUf4RlKY0qc/lsn0oNtTDFT/Rvu4deA== --recursive"
   ]
  },
  {
   "cell_type": "code",
   "execution_count": 12,
   "metadata": {},
   "outputs": [],
   "source": [
    "# !azcopy --source https://olympusvideoblob.blob.core.windows.net/grocerydemolabeled/Converted\\ \\Jpg\\ with\\ xml\\ small\\ bounding\\ boxes/ --destination ./annotated --source-key rn0do+y1iUoMuAx1l7EYTZDxktgV961RHKaSz34uOIom8fUEQMXM0kDEUf4RlKY0qc/lsn0oNtTDFT/Rvu4deA== --recursive"
   ]
  },
  {
   "cell_type": "markdown",
   "metadata": {},
   "source": [
    "Here, we define the Label Map required by Tensorflow OD API. Details can be found [here.](https://github.com/tensorflow/models/blob/master/research/object_detection/g3doc/using_your_own_dataset.md)"
   ]
  },
  {
   "cell_type": "code",
   "execution_count": 3,
   "metadata": {},
   "outputs": [
    {
     "name": "stdout",
     "output_type": "stream",
     "text": [
      "Overwriting stockout_label_map.pbtxt\n"
     ]
    }
   ],
   "source": [
    "%%writefile stockout_label_map.pbtxt\n",
    "\n",
    "item {\n",
    "  id: 1\n",
    "  name: 'stockout'\n",
    "}"
   ]
  },
  {
   "cell_type": "code",
   "execution_count": 4,
   "metadata": {},
   "outputs": [],
   "source": [
    "# Annotated Images directory\n",
    "data_dir = './annotated/'\n",
    "# Label map path\n",
    "label_map_path = './stockout_label_map.pbtxt'"
   ]
  },
  {
   "cell_type": "code",
   "execution_count": 5,
   "metadata": {},
   "outputs": [],
   "source": [
    "# Read label dictionary\n",
    "label_map_dict = label_map_util.get_label_map_dict(label_map_path)"
   ]
  },
  {
   "cell_type": "code",
   "execution_count": 13,
   "metadata": {},
   "outputs": [],
   "source": [
    "# in_images = glob.glob(data_dir + '*.jpg')\n",
    "# print(\"There are {} images.\".format(len(in_images)))"
   ]
  },
  {
   "cell_type": "code",
   "execution_count": 6,
   "metadata": {},
   "outputs": [
    {
     "name": "stdout",
     "output_type": "stream",
     "text": [
      "There are 538 images.\n"
     ]
    }
   ],
   "source": [
    "in_images = glob.glob(data_dir + '/**/'+ '*.jpg')\n",
    "print(\"There are {} images.\".format(len(in_images)))"
   ]
  },
  {
   "cell_type": "code",
   "execution_count": 7,
   "metadata": {},
   "outputs": [
    {
     "name": "stdout",
     "output_type": "stream",
     "text": [
      "There are 239 images.\n"
     ]
    }
   ],
   "source": [
    "in_images_sub = glob.glob(data_dir + '/**/**/'+ '*.jpg')\n",
    "print(\"There are {} images.\".format(len(in_images_sub)))"
   ]
  },
  {
   "cell_type": "code",
   "execution_count": 8,
   "metadata": {},
   "outputs": [
    {
     "name": "stdout",
     "output_type": "stream",
     "text": [
      "There are 777 images.\n"
     ]
    }
   ],
   "source": [
    "in_images = in_images + in_images_sub\n",
    "print(\"There are {} images.\".format(len(in_images)))"
   ]
  },
  {
   "cell_type": "markdown",
   "metadata": {},
   "source": [
    "Here, we define a function to analyze bounding box width and heights."
   ]
  },
  {
   "cell_type": "code",
   "execution_count": 9,
   "metadata": {},
   "outputs": [],
   "source": [
    "def plot_bb(examples, normalized=False):\n",
    "    heights = []\n",
    "    widths = []\n",
    "    for idx, example in enumerate(examples):\n",
    "        if idx % 1 == 0:\n",
    "#             print('On image {} of {}'.format(idx, len(examples)))\n",
    "#             xml_path = os.path.join(annot_dir, example[:-4] + '.xml')\n",
    "            xml_path = os.path.join(example[:-4] + '.xml')\n",
    "            if not os.path.exists(xml_path):\n",
    "                print('Could not find {}, ignoring example'.format(xml_path))\n",
    "                continue\n",
    "            with tf.gfile.GFile(xml_path, 'r') as fid:\n",
    "                xml_str = fid.read()\n",
    "            xml = etree.fromstring(xml_str)\n",
    "            data = dataset_util.recursive_parse_xml_to_dict(xml)['annotation']\n",
    "            width = int(data['size']['width'])\n",
    "            height = int(data['size']['height'])        \n",
    "            if 'object' in data:\n",
    "                for obj in data['object']:\n",
    "                    xmin = float(obj['bndbox']['xmin'])\n",
    "                    xmax = float(obj['bndbox']['xmax'])\n",
    "                    ymin = float(obj['bndbox']['ymin'])\n",
    "                    ymax = float(obj['bndbox']['ymax'])\n",
    "#                     print((xmax -xmin), (ymax - ymin))\n",
    "                    if normalized:\n",
    "                        widths.append((xmax -xmin) / width)\n",
    "                        heights.append((ymax - ymin)  / height)\n",
    "                    else:\n",
    "                        widths.append((xmax -xmin) )\n",
    "                        heights.append((ymax - ymin))\n",
    "    plt.scatter(widths, heights)\n",
    "    plt.xlabel(\"bb width\")\n",
    "    plt.ylabel(\"bb height\")"
   ]
  },
  {
   "cell_type": "code",
   "execution_count": 10,
   "metadata": {},
   "outputs": [
    {
     "data": {
      "image/png": "[encoded data removed]",
      "text/plain": [
       "<Figure size 432x288 with 1 Axes>"
      ]
     },
     "metadata": {
      "needs_background": "light"
     },
     "output_type": "display_data"
    }
   ],
   "source": [
    "plot_bb(in_images, normalized=True)"
   ]
  },
  {
   "cell_type": "code",
   "execution_count": 11,
   "metadata": {},
   "outputs": [
    {
     "data": {
      "image/png": "[encoded data removed]",
      "text/plain": [
       "<Figure size 432x288 with 1 Axes>"
      ]
     },
     "metadata": {
      "needs_background": "light"
     },
     "output_type": "display_data"
    }
   ],
   "source": [
    "plot_bb(in_images)"
   ]
  },
  {
   "cell_type": "markdown",
   "metadata": {},
   "source": [
    "You can now proceed to the next notebook to preprocess images and annotations for Tensorflow OD API."
   ]
  }
 ],
 "metadata": {
  "kernelspec": {
   "display_name": "Python [conda env:tfod]",
   "language": "python",
   "name": "conda-env-tfod-py"
  },
  "language_info": {
   "codemirror_mode": {
    "name": "ipython",
    "version": 3
   },
   "file_extension": ".py",
   "mimetype": "text/x-python",
   "name": "python",
   "nbconvert_exporter": "python",
   "pygments_lexer": "ipython3",
   "version": "3.6.8"
  }
 },
 "nbformat": 4,
 "nbformat_minor": 2
}
